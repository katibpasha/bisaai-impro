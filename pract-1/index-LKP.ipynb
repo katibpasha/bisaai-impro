{
 "cells": [
  {
   "cell_type": "markdown",
   "id": "f679f26a",
   "metadata": {},
   "source": [
    "# Importing openCV library\n",
    "import cv2 as cv\n",
    "\n",
    "### Load target image with openCV library\n",
    "img_gray = cv.imread('PangeranDiponegoro.jpg', cv.IMREAD_GRAYSCALE)\n",
    "\n",
    "cv.imwrite('PangeranDiponegoroGrayscale.jpg', img_gray)\n",
    "cv.imshow('Pangeran Diponegoro - 11 November 1785 - Yogyakarta', img_gray)\n",
    "\n",
    "### Setting delay time\n",
    "cv.waitKey(0)\n",
    "cv.destroyAllWindows()"
   ]
  },
  {
   "cell_type": "code",
   "execution_count": null,
   "id": "402a7599",
   "metadata": {},
   "outputs": [],
   "source": []
  }
 ],
 "metadata": {
  "kernelspec": {
   "display_name": "Python 3 (ipykernel)",
   "language": "python",
   "name": "python3"
  },
  "language_info": {
   "codemirror_mode": {
    "name": "ipython",
    "version": 3
   },
   "file_extension": ".py",
   "mimetype": "text/x-python",
   "name": "python",
   "nbconvert_exporter": "python",
   "pygments_lexer": "ipython3",
   "version": "3.9.7"
  }
 },
 "nbformat": 4,
 "nbformat_minor": 5
}
