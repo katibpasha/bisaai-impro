{
 "cells": [
  {
   "cell_type": "markdown",
   "id": "6729abb1",
   "metadata": {},
   "source": [
    "### Capsule"
   ]
  },
  {
   "cell_type": "markdown",
   "id": "2ce84c7d",
   "metadata": {},
   "source": [
    "#### Impor libraries"
   ]
  },
  {
   "cell_type": "code",
   "execution_count": 1,
   "id": "3f6158fe",
   "metadata": {},
   "outputs": [],
   "source": [
    "import numpy as np\n",
    "import cv2 as cv"
   ]
  },
  {
   "cell_type": "markdown",
   "id": "151a9b30",
   "metadata": {},
   "source": [
    "#### Membaca file citra digital"
   ]
  },
  {
   "cell_type": "code",
   "execution_count": 5,
   "id": "92ef16a3",
   "metadata": {},
   "outputs": [],
   "source": [
    "img_rgb = cv.imread('capsule.jpg')"
   ]
  },
  {
   "cell_type": "markdown",
   "id": "375e1b9c",
   "metadata": {},
   "source": [
    "#### Konversi RGB ke grayscale"
   ]
  },
  {
   "cell_type": "code",
   "execution_count": 6,
   "id": "ff53ec0e",
   "metadata": {},
   "outputs": [],
   "source": [
    "img_grayscale = cv.cvtColor(img_rgb, cv.COLOR_BGR2GRAY)"
   ]
  },
  {
   "cell_type": "markdown",
   "id": "33e18fde",
   "metadata": {},
   "source": [
    "#### Konversi RGB ke HSV"
   ]
  },
  {
   "cell_type": "code",
   "execution_count": 7,
   "id": "7d4c65b4",
   "metadata": {},
   "outputs": [],
   "source": [
    "img_hsv = cv.cvtColor(img_rgb, cv.COLOR_BGR2HSV)"
   ]
  },
  {
   "cell_type": "markdown",
   "id": "8aa015da",
   "metadata": {},
   "source": [
    "#### Konversi RGB ke YCrCb"
   ]
  },
  {
   "cell_type": "code",
   "execution_count": 8,
   "id": "7bee7201",
   "metadata": {},
   "outputs": [],
   "source": [
    "img_YCrCb = cv.cvtColor(img_rgb, cv.COLOR_BGR2YCrCb) \n",
    "imgY = img_YCrCb[:,:,0]; \n",
    "imgCr = img_YCrCb[:,:,1]; \n",
    "imgCb = img_YCrCb[:,:,2]; "
   ]
  },
  {
   "cell_type": "markdown",
   "id": "a65cc120",
   "metadata": {},
   "source": [
    "#### Mencetak shape"
   ]
  },
  {
   "cell_type": "code",
   "execution_count": 9,
   "id": "dab3a8d2",
   "metadata": {},
   "outputs": [
    {
     "name": "stdout",
     "output_type": "stream",
     "text": [
      "Shape RGB: (800, 1480, 3)\n",
      "Shape Grayscale: (800, 1480)\n",
      "Shape HSV: (800, 1480, 3)\n",
      "Shape YCbCr: (800, 1480, 3)\n"
     ]
    }
   ],
   "source": [
    "print('Shape RGB: '+str(img_rgb.shape)) \n",
    "print('Shape Grayscale: '+str(img_grayscale.shape)) \n",
    "print('Shape HSV: '+str(img_hsv.shape)) \n",
    "print('Shape YCbCr: '+str(img_YCrCb.shape)) "
   ]
  },
  {
   "cell_type": "markdown",
   "id": "99178237",
   "metadata": {},
   "source": [
    "#### Proses penyimpanan"
   ]
  },
  {
   "cell_type": "code",
   "execution_count": 10,
   "id": "be51e2af",
   "metadata": {},
   "outputs": [
    {
     "data": {
      "text/plain": [
       "True"
      ]
     },
     "execution_count": 10,
     "metadata": {},
     "output_type": "execute_result"
    }
   ],
   "source": [
    "cv.imwrite('Capsule Grayscale.jpg',img_grayscale) \n",
    "cv.imwrite('Capsule HSV.jpg',img_hsv) \n",
    "cv.imwrite('Capsule YCbCr.jpg',img_YCrCb)"
   ]
  },
  {
   "cell_type": "code",
   "execution_count": 11,
   "id": "09b3c2d6",
   "metadata": {},
   "outputs": [],
   "source": [
    "cv.imshow('RGB',img_rgb) \n",
    "cv.imshow('Grayscale',img_grayscale) \n",
    "cv.imshow('HSV',img_hsv) \n",
    "cv.imshow('YCbCr',img_YCrCb) \n",
    "cv.imshow('Y',imgY) \n",
    "cv.imshow('Cb',imgCb) \n",
    "cv.imshow('Cr',imgCr) \n",
    "cv.waitKey(0) \n",
    "cv.destroyAllWindows()"
   ]
  },
  {
   "cell_type": "markdown",
   "id": "b741c6ac",
   "metadata": {},
   "source": [
    "### Apple"
   ]
  },
  {
   "cell_type": "markdown",
   "id": "093cba16",
   "metadata": {},
   "source": [
    "#### Membaca file citra digital"
   ]
  },
  {
   "cell_type": "code",
   "execution_count": 17,
   "id": "98ac235d",
   "metadata": {},
   "outputs": [],
   "source": [
    "img_rgb = cv.imread('red_apple.jpg')"
   ]
  },
  {
   "cell_type": "markdown",
   "id": "cdaea58f",
   "metadata": {},
   "source": [
    "#### Konversi BGR ke YCbCr"
   ]
  },
  {
   "cell_type": "code",
   "execution_count": 20,
   "id": "8670d07b",
   "metadata": {},
   "outputs": [],
   "source": [
    "img_ycrcb = cv.cvtColor(img_rgb, cv.COLOR_BGR2YCrCb) \n",
    "\n",
    "lower_blue = np.array([40,150,50])\n",
    "upper_blue = np.array([200,255,150])"
   ]
  },
  {
   "cell_type": "markdown",
   "id": "14a1cfa4",
   "metadata": {},
   "source": [
    "#### Thershold untuk mengambil warna merah saja"
   ]
  },
  {
   "cell_type": "code",
   "execution_count": 21,
   "id": "e4035afc",
   "metadata": {},
   "outputs": [],
   "source": [
    "mask = cv.inRange(img_ycrcb, lower_blue, upper_blue)\n",
    "res = cv.bitwise_and(img_rgb,img_rgb, mask= mask)\n",
    "\n",
    "cv.imshow('rgb', res) \n",
    "cv.waitKey(0) \n",
    "cv.destroyAllWindows() "
   ]
  },
  {
   "cell_type": "code",
   "execution_count": null,
   "id": "3d5c52b6",
   "metadata": {},
   "outputs": [],
   "source": []
  }
 ],
 "metadata": {
  "kernelspec": {
   "display_name": "Python 3 (ipykernel)",
   "language": "python",
   "name": "python3"
  },
  "language_info": {
   "codemirror_mode": {
    "name": "ipython",
    "version": 3
   },
   "file_extension": ".py",
   "mimetype": "text/x-python",
   "name": "python",
   "nbconvert_exporter": "python",
   "pygments_lexer": "ipython3",
   "version": "3.9.7"
  }
 },
 "nbformat": 4,
 "nbformat_minor": 5
}
