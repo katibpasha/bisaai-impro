{
 "cells": [
  {
   "cell_type": "markdown",
   "id": "94136286",
   "metadata": {},
   "source": [
    "#### Impor libraries"
   ]
  },
  {
   "cell_type": "code",
   "execution_count": 39,
   "id": "3a55ec54",
   "metadata": {},
   "outputs": [],
   "source": [
    "import numpy as np\n",
    "import cv2 as cv"
   ]
  },
  {
   "cell_type": "markdown",
   "id": "5841fafb",
   "metadata": {},
   "source": [
    "#### Membaca file citra digital"
   ]
  },
  {
   "cell_type": "code",
   "execution_count": 40,
   "id": "f44d28d3",
   "metadata": {},
   "outputs": [],
   "source": [
    "img_rgb = cv.imread('native.jpg')"
   ]
  },
  {
   "cell_type": "markdown",
   "id": "e97b39b0",
   "metadata": {},
   "source": [
    "#### Treshold mengambil warna biru saja"
   ]
  },
  {
   "cell_type": "code",
   "execution_count": 43,
   "id": "1e6fbaf1",
   "metadata": {},
   "outputs": [],
   "source": [
    "img_ycrcb = cv.cvtColor(img_rgb, cv.COLOR_BGR2HSV)\n",
    "\n",
    "lower_red = np.array([110,50,50])\n",
    "upper_red = np.array([130,255,255])\n",
    "\n",
    "mask = cv.inRange(img_ycrcb, lower_red, upper_red)\n",
    "res_blue = cv.bitwise_and(img_rgb,img_rgb, mask= mask)\n",
    "\n",
    "cv.imshow('img_blue', res_blue)\n",
    "cv.waitKey(0) \n",
    "cv.destroyAllWindows()"
   ]
  },
  {
   "cell_type": "markdown",
   "id": "ccf9c6a3",
   "metadata": {},
   "source": [
    "#### Treshold mengambil merah saja"
   ]
  },
  {
   "cell_type": "code",
   "execution_count": 44,
   "id": "3a5652e0",
   "metadata": {},
   "outputs": [],
   "source": [
    "img_ycrcb = cv.cvtColor(img_rgb, cv.COLOR_BGR2YCrCb)\n",
    "\n",
    "lower_blue = np.array([40,150,50])\n",
    "upper_blue = np.array([200,255,150])\n",
    "\n",
    "mask = cv.inRange(img_ycrcb, lower_blue, upper_blue)\n",
    "res_red = cv.bitwise_and(img_rgb,img_rgb, mask= mask)\n",
    "\n",
    "cv.imshow('img_red', res_red)\n",
    "cv.waitKey(0) \n",
    "cv.destroyAllWindows()"
   ]
  },
  {
   "cell_type": "markdown",
   "id": "b970466b",
   "metadata": {},
   "source": [
    "#### Penyimpanan output citra digital"
   ]
  },
  {
   "cell_type": "code",
   "execution_count": 45,
   "id": "5375a734",
   "metadata": {},
   "outputs": [
    {
     "data": {
      "text/plain": [
       "True"
      ]
     },
     "execution_count": 45,
     "metadata": {},
     "output_type": "execute_result"
    }
   ],
   "source": [
    "cv.imwrite('res_blue.jpg',res_blue) \n",
    "cv.imwrite('res_red.jpg',res_red)"
   ]
  },
  {
   "cell_type": "code",
   "execution_count": null,
   "id": "3b1a3595",
   "metadata": {},
   "outputs": [],
   "source": []
  }
 ],
 "metadata": {
  "kernelspec": {
   "display_name": "Python 3 (ipykernel)",
   "language": "python",
   "name": "python3"
  },
  "language_info": {
   "codemirror_mode": {
    "name": "ipython",
    "version": 3
   },
   "file_extension": ".py",
   "mimetype": "text/x-python",
   "name": "python",
   "nbconvert_exporter": "python",
   "pygments_lexer": "ipython3",
   "version": "3.9.7"
  }
 },
 "nbformat": 4,
 "nbformat_minor": 5
}
