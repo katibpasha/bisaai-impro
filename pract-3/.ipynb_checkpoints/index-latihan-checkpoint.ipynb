{
 "cells": [
  {
   "cell_type": "markdown",
   "id": "3ca5bbd1",
   "metadata": {},
   "source": [
    "#### Impor libraries"
   ]
  },
  {
   "cell_type": "code",
   "execution_count": 1,
   "id": "0496abee",
   "metadata": {},
   "outputs": [],
   "source": [
    "import numpy as np\n",
    "import cv2 as cv"
   ]
  },
  {
   "cell_type": "markdown",
   "id": "0637b295",
   "metadata": {},
   "source": [
    "#### Membaca file citra digital"
   ]
  },
  {
   "cell_type": "raw",
   "id": "e726fb21",
   "metadata": {},
   "source": [
    "img_rgb = cv.imread('capsule.jpg')"
   ]
  },
  {
   "cell_type": "markdown",
   "id": "36112c0f",
   "metadata": {},
   "source": [
    "#### "
   ]
  }
 ],
 "metadata": {
  "kernelspec": {
   "display_name": "Python 3 (ipykernel)",
   "language": "python",
   "name": "python3"
  },
  "language_info": {
   "codemirror_mode": {
    "name": "ipython",
    "version": 3
   },
   "file_extension": ".py",
   "mimetype": "text/x-python",
   "name": "python",
   "nbconvert_exporter": "python",
   "pygments_lexer": "ipython3",
   "version": "3.9.7"
  }
 },
 "nbformat": 4,
 "nbformat_minor": 5
}
