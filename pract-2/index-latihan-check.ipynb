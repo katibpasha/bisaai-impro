{
 "cells": [
  {
   "cell_type": "code",
   "execution_count": 3,
   "id": "ace61d92",
   "metadata": {},
   "outputs": [
    {
     "name": "stdout",
     "output_type": "stream",
     "text": [
      "\n",
      "RGB Image\n",
      "(1999, 1999, 3)\n",
      "11988003\n",
      "uint8\n",
      "\n",
      "Grayscale Image\n",
      "(1999, 1999)\n",
      "3996001\n",
      "uint8\n"
     ]
    }
   ],
   "source": [
    "#import library to environment\n",
    "import numpy as np\n",
    "import cv2 as cv\n",
    "\n",
    "#image loading process\n",
    "img_rgb = cv.imread('logo.jpg')\n",
    "img_gray = cv.imread('logo.jpg', cv.IMREAD_GRAYSCALE)\n",
    "\n",
    "#script to show detail each image\n",
    "print('\\nRGB Image')\n",
    "print(img_rgb.shape) #check the matrix's ordo (dimension)\n",
    "print(img_rgb.size)  #check the file size\n",
    "print(img_rgb.dtype) #check the value type in matrix\n",
    "\n",
    "print('\\nGrayscale Image')\n",
    "print(img_gray.shape)\n",
    "print(img_gray.size)\n",
    "print(img_gray.dtype)"
   ]
  },
  {
   "cell_type": "code",
   "execution_count": null,
   "id": "6f03de2e",
   "metadata": {},
   "outputs": [],
   "source": []
  }
 ],
 "metadata": {
  "kernelspec": {
   "display_name": "Python 3 (ipykernel)",
   "language": "python",
   "name": "python3"
  },
  "language_info": {
   "codemirror_mode": {
    "name": "ipython",
    "version": 3
   },
   "file_extension": ".py",
   "mimetype": "text/x-python",
   "name": "python",
   "nbconvert_exporter": "python",
   "pygments_lexer": "ipython3",
   "version": "3.9.7"
  }
 },
 "nbformat": 4,
 "nbformat_minor": 5
}
