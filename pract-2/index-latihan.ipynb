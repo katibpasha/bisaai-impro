{
 "cells": [
  {
   "cell_type": "code",
   "execution_count": 4,
   "id": "f118cf09",
   "metadata": {},
   "outputs": [
    {
     "name": "stdout",
     "output_type": "stream",
     "text": [
      "[255 255 255]\n",
      "255\n",
      "[255 255 255]\n",
      "255\n",
      "255\n"
     ]
    }
   ],
   "source": [
    "#import library to environment\n",
    "import numpy as np\n",
    "import cv2 as cv\n",
    "\n",
    "#image loading process\n",
    "img_rgb  = cv.imread('logo.jpg')\n",
    "img_gray = cv.imread('logo.jpg', cv.IMREAD_GRAYSCALE)\n",
    "\n",
    "px_rgb = img_rgb[100,100]\n",
    "blue = img_rgb[100,100,0]\n",
    "img_rgb[100,100] = [255,255,255]\n",
    "\n",
    "px_gray = img_gray[100,100]\n",
    "img_gray[100,100] = 255\n",
    "\n",
    "print(px_rgb) \n",
    "print(blue)\n",
    "print(img_rgb[100,100])\n",
    "print(px_gray)\n",
    "print(img_gray[100,100])"
   ]
  },
  {
   "cell_type": "code",
   "execution_count": 8,
   "id": "7e19d990",
   "metadata": {},
   "outputs": [],
   "source": [
    "# split layer\n",
    "b,g,r = cv.split(img_rgb)\n",
    "img_rgb_merge = cv.merge((b,g,r))\n",
    "b = img_rgb[:,:,0]\n",
    "img_rgb[:,:,2] = 0\n",
    "\n",
    "# show output\n",
    "cv.namedWindow('Image img_rgb Layer Blue', cv.WINDOW_NORMAL)\n",
    "cv.imshow('Image img_rgb Layer Blue', b)\n",
    "cv.namedWindow('Image img_rgb with Layer Red=0', cv.WINDOW_NORMAL)\n",
    "cv.imshow('Image img_rgb with Layer Red=0', img_rgb)\n",
    "cv.waitKey(0)\n",
    "cv.destroyAllWindows()"
   ]
  },
  {
   "cell_type": "code",
   "execution_count": 10,
   "id": "96516a08",
   "metadata": {},
   "outputs": [],
   "source": [
    "# duplicating matrix\n",
    "duplicate = img_rgb[25:2800, 230:500]\n",
    "img_rgb[25:2800, 20:290] = duplicate\n",
    "\n",
    "cv.namedWindow('Gambar', cv.WINDOW_NORMAL)\n",
    "cv.imshow('Gambar', img_rgb)\n",
    "cv.waitKey(0)\n",
    "cv.destroyAllWindows()\n"
   ]
  },
  {
   "cell_type": "code",
   "execution_count": 17,
   "id": "70326baa",
   "metadata": {},
   "outputs": [
    {
     "ename": "error",
     "evalue": "OpenCV(4.5.5) D:\\a\\opencv-python\\opencv-python\\opencv\\modules\\core\\src\\arithm.cpp:230: error: (-215:Assertion failed) (mtype == CV_8U || mtype == CV_8S) && _mask.sameSize(*psrc1) in function 'cv::binary_op'\n",
     "output_type": "error",
     "traceback": [
      "\u001b[1;31m---------------------------------------------------------------------------\u001b[0m",
      "\u001b[1;31merror\u001b[0m                                     Traceback (most recent call last)",
      "\u001b[1;32m~\\AppData\\Local\\Temp/ipykernel_7436/485493333.py\u001b[0m in \u001b[0;36m<module>\u001b[1;34m\u001b[0m\n\u001b[0;32m     13\u001b[0m \u001b[1;33m\u001b[0m\u001b[0m\n\u001b[0;32m     14\u001b[0m \u001b[1;31m## make black-out area of ROI\u001b[0m\u001b[1;33m\u001b[0m\u001b[1;33m\u001b[0m\u001b[0m\n\u001b[1;32m---> 15\u001b[1;33m \u001b[0mimg_bo\u001b[0m \u001b[1;33m=\u001b[0m \u001b[0mcv\u001b[0m\u001b[1;33m.\u001b[0m\u001b[0mbitwise_and\u001b[0m\u001b[1;33m(\u001b[0m\u001b[0mroi\u001b[0m\u001b[1;33m,\u001b[0m\u001b[0mroi\u001b[0m\u001b[1;33m,\u001b[0m\u001b[0mmask\u001b[0m \u001b[1;33m=\u001b[0m \u001b[0mmask_inv\u001b[0m\u001b[1;33m)\u001b[0m\u001b[1;33m\u001b[0m\u001b[1;33m\u001b[0m\u001b[0m\n\u001b[0m\u001b[0;32m     16\u001b[0m \u001b[1;33m\u001b[0m\u001b[0m\n\u001b[0;32m     17\u001b[0m \u001b[1;31m## pick selected region from image\u001b[0m\u001b[1;33m\u001b[0m\u001b[1;33m\u001b[0m\u001b[0m\n",
      "\u001b[1;31merror\u001b[0m: OpenCV(4.5.5) D:\\a\\opencv-python\\opencv-python\\opencv\\modules\\core\\src\\arithm.cpp:230: error: (-215:Assertion failed) (mtype == CV_8U || mtype == CV_8S) && _mask.sameSize(*psrc1) in function 'cv::binary_op'\n"
     ]
    }
   ],
   "source": [
    "# using ROI (STILL ERROR)\n",
    "img_bg = cv.imread('logo.jpg')\n",
    "img_avatar = cv.imread('avatar.jpg')\n",
    "\n",
    "## make ROI\n",
    "rows,cols,channels = img_bg.shape\n",
    "roi = img_bg[0:rows, 0:cols ]\n",
    "\n",
    "## make a mask and inverse\n",
    "img_to_gray = cv.cvtColor(img_avatar,cv.COLOR_BGR2GRAY)\n",
    "ret, mask = cv.threshold(img_to_gray, 10, 255, cv.THRESH_BINARY)\n",
    "mask_inv = cv.bitwise_not(mask)\n",
    "\n",
    "## make black-out area of ROI\n",
    "img_bo = cv.bitwise_and(roi,roi,mask = mask_inv)\n",
    "\n",
    "## pick selected region from image\n",
    "img_pic = cv.bitwise_and(img_avatar,img_avatar,mask = mask)\n",
    "\n",
    "## put selected region of ROI\n",
    "dst = cv.add(img_bo, img_pic)\n",
    "img_bg[0:rows, 0:cols ] = dst\n",
    "\n",
    "cv.namedWindow('Test Image ROI', cv.WINDOW_NORMAL)\n",
    "cv.imshow('Test Image ROI', img_bg)\n",
    "cv.waitKey(0)\n",
    "cv.destroyAllWindows()"
   ]
  }
 ],
 "metadata": {
  "kernelspec": {
   "display_name": "Python 3 (ipykernel)",
   "language": "python",
   "name": "python3"
  },
  "language_info": {
   "codemirror_mode": {
    "name": "ipython",
    "version": 3
   },
   "file_extension": ".py",
   "mimetype": "text/x-python",
   "name": "python",
   "nbconvert_exporter": "python",
   "pygments_lexer": "ipython3",
   "version": "3.9.7"
  }
 },
 "nbformat": 4,
 "nbformat_minor": 5
}
