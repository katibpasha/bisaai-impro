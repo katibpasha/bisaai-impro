{
 "cells": [
  {
   "cell_type": "code",
   "execution_count": 4,
   "id": "f118cf09",
   "metadata": {},
   "outputs": [
    {
     "name": "stdout",
     "output_type": "stream",
     "text": [
      "[255 255 255]\n",
      "255\n",
      "[255 255 255]\n",
      "255\n",
      "255\n"
     ]
    }
   ],
   "source": [
    "#import library to environment\n",
    "import numpy as np\n",
    "import cv2 as cv\n",
    "\n",
    "#image loading process\n",
    "img_rgb  = cv.imread('logo.jpg')\n",
    "img_gray = cv.imread('logo.jpg', cv.IMREAD_GRAYSCALE)\n",
    "\n",
    "px_rgb = img_rgb[100,100]\n",
    "blue = img_rgb[100,100,0]\n",
    "img_rgb[100,100] = [255,255,255]\n",
    "\n",
    "px_gray = img_gray[100,100]\n",
    "img_gray[100,100] = 255\n",
    "\n",
    "print(px_rgb) \n",
    "print(blue)\n",
    "print(img_rgb[100,100])\n",
    "print(px_gray)\n",
    "print(img_gray[100,100])"
   ]
  },
  {
   "cell_type": "code",
   "execution_count": 8,
   "id": "7e19d990",
   "metadata": {},
   "outputs": [],
   "source": [
    "# split layer\n",
    "b,g,r = cv.split(img_rgb)\n",
    "img_rgb_merge = cv.merge((b,g,r))\n",
    "b = img_rgb[:,:,0]\n",
    "img_rgb[:,:,2] = 0\n",
    "\n",
    "# show output\n",
    "cv.namedWindow('Image img_rgb Layer Blue', cv.WINDOW_NORMAL)\n",
    "cv.imshow('Image img_rgb Layer Blue', b)\n",
    "cv.namedWindow('Image img_rgb with Layer Red=0', cv.WINDOW_NORMAL)\n",
    "cv.imshow('Image img_rgb with Layer Red=0', img_rgb)\n",
    "cv.waitKey(0)\n",
    "cv.destroyAllWindows()"
   ]
  },
  {
   "cell_type": "code",
   "execution_count": 10,
   "id": "96516a08",
   "metadata": {},
   "outputs": [],
   "source": [
    "# duplicating matrix\n",
    "duplicate = img_rgb[25:2800, 230:500]\n",
    "img_rgb[25:2800, 20:290] = duplicate\n",
    "\n",
    "cv.namedWindow('Gambar', cv.WINDOW_NORMAL)\n",
    "cv.imshow('Gambar', img_rgb)\n",
    "cv.waitKey(0)\n",
    "cv.destroyAllWindows()\n"
   ]
  },
  {
   "cell_type": "code",
   "execution_count": 8,
   "id": "70326baa",
   "metadata": {},
   "outputs": [],
   "source": [
    "# using ROI\n",
    "import cv2 as cv\n",
    "import numpy as np\n",
    "\n",
    "img_upn = cv.imread('upn.jpg')\n",
    "img_logo = cv.imread('Logo_UPNVJ.png')\n",
    "\n",
    "## make ROI\n",
    "rows,cols,channels = img_logo.shape\n",
    "roi = img_upn[0:rows, 0:cols ]\n",
    "\n",
    "## make a mask and inverse\n",
    "img_to_gray = cv.cvtColor(img_logo,cv.COLOR_BGR2GRAY)\n",
    "ret, mask = cv.threshold(img_to_gray, 10, 255, cv.THRESH_BINARY)\n",
    "mask_inv = cv.bitwise_not(mask)\n",
    "\n",
    "## make black-out area of ROI\n",
    "img_bo = cv.bitwise_and(roi,roi,mask = mask_inv)\n",
    "\n",
    "## pick selected region from image\n",
    "img_pic = cv.bitwise_and(img_logo,img_logo,mask = mask)\n",
    "\n",
    "## put selected region of ROI\n",
    "dst = cv.add(img_bo, img_pic)\n",
    "img_upn[0:rows, 0:cols ] = dst\n",
    "\n",
    "cv.namedWindow('Test Image ROI', cv.WINDOW_NORMAL)\n",
    "cv.imshow('Test Image ROI', img_upn)\n",
    "cv.waitKey(0)\n",
    "cv.destroyAllWindows()"
   ]
  },
  {
   "cell_type": "code",
   "execution_count": null,
   "id": "24cb1a89",
   "metadata": {},
   "outputs": [],
   "source": []
  }
 ],
 "metadata": {
  "kernelspec": {
   "display_name": "Python 3 (ipykernel)",
   "language": "python",
   "name": "python3"
  },
  "language_info": {
   "codemirror_mode": {
    "name": "ipython",
    "version": 3
   },
   "file_extension": ".py",
   "mimetype": "text/x-python",
   "name": "python",
   "nbconvert_exporter": "python",
   "pygments_lexer": "ipython3",
   "version": "3.9.7"
  }
 },
 "nbformat": 4,
 "nbformat_minor": 5
}
