{
 "cells": [
  {
   "cell_type": "code",
   "execution_count": 19,
   "id": "01818747",
   "metadata": {},
   "outputs": [],
   "source": [
    "import numpy as np\n",
    "import cv2 as cv\n",
    "\n",
    "img_karno  = cv.imread('soekarno.jpg', cv.IMREAD_GRAYSCALE)\n",
    "img_hatta = cv.imread('hatta.jpg', cv.IMREAD_GRAYSCALE)\n",
    "\n",
    "cv.imshow('Soekarno', img_karno)\n",
    "cv.imshow('Hatta', img_hatta)\n",
    "cv.waitKey(0)\n",
    "cv.destroyAllWindows()"
   ]
  },
  {
   "cell_type": "code",
   "execution_count": 20,
   "id": "d11a09a1",
   "metadata": {},
   "outputs": [],
   "source": [
    "#image addition\n",
    "import numpy as np\n",
    "import cv2 as cv\n",
    "\n",
    "img_karno  = cv.imread('soekarno.jpg')\n",
    "img_hatta = cv.imread('hatta.jpg')\n",
    "\n",
    "merge = cv.addWeighted(img_karno, 0.5, img_hatta, 0.5, 1)\n",
    "\n",
    "cv.imshow('Merged Image', merge)\n",
    "cv.waitKey(0)\n",
    "cv.destroyAllWindows()"
   ]
  },
  {
   "cell_type": "code",
   "execution_count": 21,
   "id": "10317ea0",
   "metadata": {},
   "outputs": [],
   "source": [
    "#image substraction\n",
    "import numpy as np\n",
    "import cv2 as cv\n",
    "\n",
    "img_karno  = cv.imread('soekarno.jpg', 1)\n",
    "img_hatta = cv.imread('hatta.jpg', 1)\n",
    "\n",
    "subt = cv.subtract(img_karno, img_hatta)\n",
    "\n",
    "cv.imshow('Subtracted Image', subt)\n",
    "cv.waitKey(0)\n",
    "cv.destroyAllWindows()"
   ]
  },
  {
   "cell_type": "code",
   "execution_count": 22,
   "id": "29e84f02",
   "metadata": {},
   "outputs": [
    {
     "ename": "SyntaxError",
     "evalue": "invalid syntax (Temp/ipykernel_7056/2017853081.py, line 2)",
     "output_type": "error",
     "traceback": [
      "\u001b[1;36m  File \u001b[1;32m\"C:\\Users\\PC\\AppData\\Local\\Temp/ipykernel_7056/2017853081.py\"\u001b[1;36m, line \u001b[1;32m2\u001b[0m\n\u001b[1;33m    Untuk melakukan operasi aritmatika penambahan pada matriks,\u001b[0m\n\u001b[1;37m          ^\u001b[0m\n\u001b[1;31mSyntaxError\u001b[0m\u001b[1;31m:\u001b[0m invalid syntax\n"
     ]
    }
   ],
   "source": [
    "#PENJELASAN IMAGE ADDITION\n",
    "Untuk melakukan operasi aritmatika penambahan pada matriks, \n",
    "kita gunakan library openCV dengan modul .addWeighted\n",
    "Perlu ditambahkan angka setelah memuat gambar untuk mengatur\n",
    "tingkat kecerahan dari gambar yang hendak dilakukan operasi.\n",
    "Hasilnya adalah 2 gambar menjadi satu gambar.\n",
    "\n",
    "#PENJELASAN IMAGE SUBSTRACTION\n",
    "Gunakan library openCV dan gunakan modul .subtract yang\n",
    "berfungsi untuk mengurangi nilai matriks. Outputnya adalah\n",
    "gambar akan bernilai negatif."
   ]
  },
  {
   "cell_type": "code",
   "execution_count": null,
   "id": "8dbbb260",
   "metadata": {},
   "outputs": [],
   "source": []
  }
 ],
 "metadata": {
  "kernelspec": {
   "display_name": "Python 3 (ipykernel)",
   "language": "python",
   "name": "python3"
  },
  "language_info": {
   "codemirror_mode": {
    "name": "ipython",
    "version": 3
   },
   "file_extension": ".py",
   "mimetype": "text/x-python",
   "name": "python",
   "nbconvert_exporter": "python",
   "pygments_lexer": "ipython3",
   "version": "3.9.7"
  }
 },
 "nbformat": 4,
 "nbformat_minor": 5
}
